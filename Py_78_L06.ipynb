{
  "nbformat": 4,
  "nbformat_minor": 0,
  "metadata": {
    "colab": {
      "provenance": [],
      "authorship_tag": "ABX9TyOk9dK2W8XZozPdkUcaQaC6",
      "include_colab_link": true
    },
    "kernelspec": {
      "name": "python3",
      "display_name": "Python 3"
    },
    "language_info": {
      "name": "python"
    }
  },
  "cells": [
    {
      "cell_type": "markdown",
      "metadata": {
        "id": "view-in-github",
        "colab_type": "text"
      },
      "source": [
        "<a href=\"https://colab.research.google.com/github/Scodingcurriculum/Python_Gr_78/blob/Lesson_06/Py_78_L06.ipynb\" target=\"_parent\"><img src=\"https://colab.research.google.com/assets/colab-badge.svg\" alt=\"Open In Colab\"/></a>"
      ]
    },
    {
      "cell_type": "markdown",
      "source": [
        "Main Activity: Create a console-based application in Python to find if the password entered by the user is strong or weak.\n",
        " A password is strong if :\n",
        "Length of the password is 8 or more than 8,\n",
        "It is a combination minimum 1 of the letters [upper and lower case] , numbers and symbols ."
      ],
      "metadata": {
        "id": "8yhG9qIcjYsR"
      }
    },
    {
      "cell_type": "code",
      "execution_count": null,
      "metadata": {
        "colab": {
          "base_uri": "https://localhost:8080/"
        },
        "id": "rs7hssI9cxPF",
        "outputId": "652b2939-84ea-4d7b-8bc9-ed4e852913e5"
      },
      "outputs": [
        {
          "output_type": "stream",
          "name": "stdout",
          "text": [
            "Python#1234 - Password Accepted\n",
            "(_hfghuhj123) - Passowrd Rejected\n",
            "Enter a password: Pyhton#456\n",
            "Pyhton#456 - Password Accepted\n"
          ]
        }
      ],
      "source": [
        "def check_criteria(password):\n",
        "    length = len(password)  #Calculate length\n",
        "    symbols = \"!@#$*\"  #String of symbols\n",
        "    l, u, s, d = 0, 0, 0, 0\n",
        "    #count of lowercase,uppercase,digits and symbols =0\n",
        "\n",
        "    if length >= 8:\n",
        "        for i in password:\n",
        "            if i.isupper():  #Check for at least 1 uppercase letter\n",
        "                l += 1\n",
        "            elif i.islower():  #Check for at least 1 lowercase letter\n",
        "                u += 1\n",
        "            elif i.isdigit():  #Check for at least 1 digit\n",
        "                d += 1\n",
        "            elif i in symbols:  #Check for at least 1 symbols\n",
        "                s += 1\n",
        "            else:  #if its none of them, break out\n",
        "                break\n",
        "    else:\n",
        "        print(\"Length of the string is < 8\")\n",
        "\n",
        "    if l > 0 and u > 0 and d > 0 and s > 0:  #Password accepted if all count > 0\n",
        "        print(password + \" - Password Accepted\")\n",
        "    else:\n",
        "        print(password + \" - Passowrd Rejected\")\n",
        "\n",
        "check_criteria(\"Python#1234\")  #for the practice of function call\n",
        "check_criteria(\"(_hfghuhj123)\")\n",
        "\n",
        "#additional activity\n",
        "# if time permits, add a user input for the password\n",
        "user_input = input(\"Enter a password: \")\n",
        "check_criteria(user_input)\n"
      ]
    },
    {
      "cell_type": "markdown",
      "source": [
        "# Additional Activity:  Generate a strong password based on name and age"
      ],
      "metadata": {
        "id": "5W1U7HH-jj70"
      }
    },
    {
      "cell_type": "code",
      "source": [
        "#additional activity\n",
        "import random\n",
        "\n",
        "def generate_password(name, age):\n",
        "    # List of random symbols\n",
        "    symbols = ['!', '@', '#', '$', '%', '&', '*']\n",
        "\n",
        "    # Choose a random symbol\n",
        "    random_symbol = random.choice(symbols)\n",
        "\n",
        "    # Convert name to lowercase and reverse it\n",
        "    reversed_name = name.lower()[::-1]\n",
        "\n",
        "    # Create a password by combining reversed name, age, and the random symbol\n",
        "    password = f\"{reversed_name}{age}{random_symbol}\"\n",
        "\n",
        "    return password\n",
        "\n",
        "# Input from user\n",
        "name = input(\"Enter your name: \")\n",
        "age = int(input(\"Enter your age: \"))\n",
        "\n",
        "# Generate and display the password\n",
        "strong_password = generate_password(name, age)\n",
        "print(f\"Your strong password is: {strong_password}\")\n",
        "\n"
      ],
      "metadata": {
        "colab": {
          "base_uri": "https://localhost:8080/"
        },
        "id": "FW7kzN6JwEAo",
        "outputId": "4a9039c7-dac5-4873-a8be-6d1a240325f4"
      },
      "execution_count": null,
      "outputs": [
        {
          "output_type": "stream",
          "name": "stdout",
          "text": [
            "Enter your name: John\n",
            "Enter your age: 23\n",
            "Your strong password is: nhoj23$\n"
          ]
        }
      ]
    },
    {
      "cell_type": "markdown",
      "source": [
        "#Homework:Check if the given 2 strings are anagrams or not."
      ],
      "metadata": {
        "id": "23nez6ofjtWs"
      }
    },
    {
      "cell_type": "code",
      "source": [
        "str1 = input(\"Enter first string: \")\n",
        "str2 = input(\"Enter second string: \")\n",
        "# convert both the strings into lowercase\n",
        "str1 = str1.lower()\n",
        "str2 = str2.lower()\n",
        "\n",
        "# check if length is same\n",
        "if (len(str1) == len(str2)):\n",
        "\n",
        "    # sort the strings\n",
        "    sorted_str1 = sorted(str1)  #function to sort string\n",
        "    sorted_str2 = sorted(str2)\n",
        "\n",
        "    # if sorted char arrays are same\n",
        "    if (sorted_str1 == sorted_str2):\n",
        "        print(str1 + \" and \" + str2 + \" are anagrams.\")\n",
        "    else:\n",
        "        print(str1 + \" and \" + str2 + \" are not anagrams.\")\n",
        "\n",
        "else:\n",
        "    print(str1 + \" and \" + str2 + \" are not anagrams.\")\n"
      ],
      "metadata": {
        "colab": {
          "base_uri": "https://localhost:8080/"
        },
        "id": "tkurJDaEj79d",
        "outputId": "39100542-8e52-4459-99c3-292ff275d291"
      },
      "execution_count": null,
      "outputs": [
        {
          "output_type": "stream",
          "name": "stdout",
          "text": [
            "Enter first string: elbow\n",
            "Enter second string: below\n",
            "elbow and below are anagrams.\n"
          ]
        }
      ]
    }
  ]
}