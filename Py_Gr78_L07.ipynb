{
  "nbformat": 4,
  "nbformat_minor": 0,
  "metadata": {
    "colab": {
      "provenance": [],
      "authorship_tag": "ABX9TyM43tqiWdoqHCM3PnsG8oF+",
      "include_colab_link": true
    },
    "kernelspec": {
      "name": "python3",
      "display_name": "Python 3"
    },
    "language_info": {
      "name": "python"
    }
  },
  "cells": [
    {
      "cell_type": "markdown",
      "metadata": {
        "id": "view-in-github",
        "colab_type": "text"
      },
      "source": [
        "<a href=\"https://colab.research.google.com/github/Scodingcurriculum/Python_Gr_78/blob/Lesson_07/Py_Gr78_L07.ipynb\" target=\"_parent\"><img src=\"https://colab.research.google.com/assets/colab-badge.svg\" alt=\"Open In Colab\"/></a>"
      ]
    },
    {
      "cell_type": "markdown",
      "source": [
        "#Main Activity:  Timezone converter"
      ],
      "metadata": {
        "id": "NH-SUcx4tVTt"
      }
    },
    {
      "cell_type": "code",
      "source": [
        "import pytz\n",
        "from datetime import datetime\n",
        "\n",
        "def convert_time():\n",
        "    \"\"\"Converts the current time from a fixed source time zone to a fixed target time zone.\"\"\"\n",
        "    # Fixed source and target time zones\n",
        "    source_tz = 'Asia/Kolkata'\n",
        "    target_tz = 'US/Eastern'\n",
        "\n",
        "    # Get current time in source time zone\n",
        "    source_time = pytz.timezone(source_tz).localize(datetime.now())\n",
        "\n",
        "    # Convert to target time zone\n",
        "    target_time = source_time.astimezone(pytz.timezone(target_tz))\n",
        "\n",
        "    # Display results\n",
        "    print(f\"Current time in {source_tz}: {source_time.strftime('%Y-%m-%d %H:%M:%S')}\")\n",
        "    print(f\"Converted time in {target_tz}: {target_time.strftime('%Y-%m-%d %H:%M:%S')}\")\n",
        "\n",
        "print(\"Welcome to the Fixed Time Zone Converter!\")\n",
        "convert_time()\n"
      ],
      "metadata": {
        "colab": {
          "base_uri": "https://localhost:8080/"
        },
        "id": "ktulZa60tTR_",
        "outputId": "93ef15e5-3eed-4a30-efa4-0b8de149df7f"
      },
      "execution_count": null,
      "outputs": [
        {
          "output_type": "stream",
          "name": "stdout",
          "text": [
            "Welcome to the Fixed Time Zone Converter!\n",
            "Current time in Asia/Kolkata: 2024-12-09 10:04:20\n",
            "Converted time in US/Eastern: 2024-12-08 23:34:20\n"
          ]
        }
      ]
    },
    {
      "cell_type": "markdown",
      "source": [
        "#Additional Activity: TImezone converter with interactive user input. You can try different values for the time zones like:\n",
        "timezones = [\n",
        "    'US/Eastern', 'Europe/London', 'Asia/Kolkata', 'Australia/Sydney',\n",
        "    'Africa/Johannesburg', 'America/Los_Angeles', 'Asia/Tokyo', 'Europe/Paris'\n",
        "]"
      ],
      "metadata": {
        "id": "sBnTFckItgG8"
      }
    },
    {
      "cell_type": "code",
      "execution_count": null,
      "metadata": {
        "colab": {
          "base_uri": "https://localhost:8080/"
        },
        "id": "ulV14BTcn5Bj",
        "outputId": "f7ac3b67-836d-4ef1-938e-0439a842ab12"
      },
      "outputs": [
        {
          "output_type": "stream",
          "name": "stdout",
          "text": [
            "Enter your time zone (e.g., 'US/Eastern'): US/Eastern\n",
            "Enter the target time zone (e.g., 'Europe/London'): America/Los_Angeles\n",
            "Current time in US/Eastern: 2024-12-14 11:17:27\n",
            "Current time in America/Los_Angeles: 2024-12-14 08:17:27\n"
          ]
        }
      ],
      "source": [
        "\n",
        "\n",
        "import pytz\n",
        "from datetime import datetime\n",
        "\n",
        "def convert_time(timezone_str):\n",
        "    local_timezone = pytz.timezone(timezone_str)\n",
        "    local_time = datetime.now(local_timezone)\n",
        "    return local_time.strftime(\"%Y-%m-%d %H:%M:%S\")\n",
        "\n",
        "# Input from user for source and target time zone\n",
        "source_timezone = input(\"Enter your time zone (e.g., 'US/Eastern'): \")\n",
        "target_timezone = input(\"Enter the target time zone (e.g., 'Europe/London'): \")\n",
        "\n",
        "# Convert current time to both time zones\n",
        "source_time = convert_time(source_timezone)\n",
        "target_time = convert_time(target_timezone)\n",
        "\n",
        "print(f\"Current time in {source_timezone}: {source_time}\")\n",
        "print(f\"Current time in {target_timezone}: {target_time}\")\n"
      ]
    },
    {
      "cell_type": "markdown",
      "source": [
        "#Homework Activity: After the conversion, calculate and display the time difference (in hours and minutes) between the source and target time zones."
      ],
      "metadata": {
        "id": "UVJansjbtzMl"
      }
    },
    {
      "cell_type": "code",
      "source": [
        "import pytz\n",
        "from datetime import datetime\n",
        "\n",
        "def convert_time():\n",
        "    \"\"\"Converts the current time from a fixed source time zone to a fixed target time zone.\"\"\"\n",
        "    # Fixed source and target time zones\n",
        "    source_tz = 'Asia/Kolkata'\n",
        "    target_tz = 'US/Eastern'\n",
        "\n",
        "    # Get current time in source time zone\n",
        "    source_time = pytz.timezone(source_tz).localize(datetime.now())\n",
        "\n",
        "    # Convert to target time zone\n",
        "    target_time = source_time.astimezone(pytz.timezone(target_tz))\n",
        "\n",
        "    # Calculate time difference\n",
        "    time_difference = target_time.utcoffset() - source_time.utcoffset()\n",
        "    hours, remainder = divmod(time_difference.total_seconds(), 3600)\n",
        "    minutes = remainder // 60\n",
        "\n",
        "    # Display results\n",
        "    print(f\"Current time in {source_tz}: {source_time.strftime('%Y-%m-%d %H:%M:%S')}\")\n",
        "    print(f\"Converted time in {target_tz}: {target_time.strftime('%Y-%m-%d %H:%M:%S')}\")\n",
        "    print(f\"Time difference: {int(hours)} hours and {int(minutes)} minutes\")\n",
        "\n",
        "\n",
        "print(\"Welcome to the Fixed Time Zone Converter!\")\n",
        "convert_time()\n",
        "\n"
      ],
      "metadata": {
        "colab": {
          "base_uri": "https://localhost:8080/"
        },
        "id": "NHzSlNKXyUT1",
        "outputId": "3812d411-85aa-4171-f0a1-63b676d370b1"
      },
      "execution_count": null,
      "outputs": [
        {
          "output_type": "stream",
          "name": "stdout",
          "text": [
            "Welcome to the Fixed Time Zone Converter!\n",
            "Current time in Asia/Kolkata: 2024-12-09 10:06:39\n",
            "Converted time in US/Eastern: 2024-12-08 23:36:39\n",
            "Time difference: -11 hours and 30 minutes\n"
          ]
        }
      ]
    }
  ]
}