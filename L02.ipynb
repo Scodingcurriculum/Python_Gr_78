{
  "nbformat": 4,
  "nbformat_minor": 0,
  "metadata": {
    "colab": {
      "provenance": [],
      "authorship_tag": "ABX9TyP6Wut88dZVEAjjZFkR+VxX",
      "include_colab_link": true
    },
    "kernelspec": {
      "name": "python3",
      "display_name": "Python 3"
    },
    "language_info": {
      "name": "python"
    }
  },
  "cells": [
    {
      "cell_type": "markdown",
      "metadata": {
        "id": "view-in-github",
        "colab_type": "text"
      },
      "source": [
        "<a href=\"https://colab.research.google.com/github/Scodingcurriculum/Python_Gr_78/blob/main/L02.ipynb\" target=\"_parent\"><img src=\"https://colab.research.google.com/assets/colab-badge.svg\" alt=\"Open In Colab\"/></a>"
      ]
    },
    {
      "cell_type": "markdown",
      "source": [
        "Main Activity: Learn to use basic arithmetic operators in Python"
      ],
      "metadata": {
        "id": "PRg2EioPwhzl"
      }
    },
    {
      "cell_type": "code",
      "source": [
        "a=10\n",
        "b=6\n",
        "print(\"a= \", a)\n",
        "print(\"b= \", b)\n",
        "print(\"Addition= \", a + b)\n",
        "print(\"Subtraction= \", a - b)\n",
        "print(\"Multiplication= \", a * b)\n",
        "print(\"Division= \", a / b)  #float division- returns decimal number\n",
        "print(\"Floor Division= \",\n",
        "      a // b)  #floor division-rounds the quotient to nearest integer"
      ],
      "metadata": {
        "colab": {
          "base_uri": "https://localhost:8080/"
        },
        "id": "dR9gV3uzTh2D",
        "outputId": "aa09705b-a99b-4363-fdaf-bef9be04c892"
      },
      "execution_count": null,
      "outputs": [
        {
          "output_type": "stream",
          "name": "stdout",
          "text": [
            "a=  10\n",
            "b=  6\n",
            "Addition=  16\n",
            "Subtraction=  4\n",
            "Multiplication=  60\n",
            "Division=  1.6666666666666667\n",
            "Floor Division=  1\n"
          ]
        }
      ]
    },
    {
      "cell_type": "markdown",
      "source": [
        "Main Activity:  Apply input statements, type conversion in the previous activity"
      ],
      "metadata": {
        "id": "PgVQwbUqwrt6"
      }
    },
    {
      "cell_type": "code",
      "source": [
        "a = int(input(\"Enter first number :\"))\n",
        "b = int(input(\"Enter second number: \"))\n",
        "\n",
        "print(\"Addition= \", a + b)\n",
        "print(\"Subtraction= \", a - b)\n",
        "print(\"Multiplication= \", a * b)\n",
        "print(\"Division= \", a / b)  #float division- returns decimal number\n",
        "print(\"Floor Division= \",\n",
        "      a // b)  #floor division-rounds the quotient to nearest integer\n",
        "print(\"Modulus= \", a % b)  #modulus- finds the remainder after division\n",
        "print(\"Square of \", a, \"=\", a**2)  #power operator **\n",
        "print(\"Cube of \", a, \"=\", a**3)\n",
        "print(\"Minimum of 30,35= \", min(30, 35))  #Minimum of 2 numbers\n",
        "print(\"Maximum of 30,35= \", max(30, 35))  #Maximum of 2 numbers"
      ],
      "metadata": {
        "colab": {
          "base_uri": "https://localhost:8080/"
        },
        "id": "XYGECaEsUC9C",
        "outputId": "43555c37-0b1b-4733-dc27-af72728ac511"
      },
      "execution_count": null,
      "outputs": [
        {
          "output_type": "stream",
          "name": "stdout",
          "text": [
            "Enter first number :45\n",
            "Enter second number: 30\n",
            "Addition=  75\n",
            "Subtraction=  15\n",
            "Multiplication=  1350\n",
            "Division=  1.5\n",
            "Floor Division=  1\n",
            "Modulus=  15\n",
            "Square of  45 = 2025\n",
            "Cube of  45 = 91125\n",
            "Minimum of 30,35=  30\n",
            "Maximum of 30,35=  35\n"
          ]
        }
      ]
    },
    {
      "cell_type": "markdown",
      "source": [
        "Main Activity: Learn to use inbuilt functions from math library"
      ],
      "metadata": {
        "id": "zpqR7NY3w1_F"
      }
    },
    {
      "cell_type": "code",
      "source": [
        "import math\n",
        "print(\"Absolute value of -45 =\", math.fabs(-45))  #finding absolute value\n",
        "print(\"Factorial of 10 = \", math.factorial(10))  #factorial of a number\n",
        "print(\"GCD of 12,2 =\", math.gcd(12, 2))  #Greatest Common Divisor of 2 numbers\n",
        "print(\"Square root of 65 =\",\n",
        "      math.isqrt(65))  # Finding sqrt and round off to nearest integer\n",
        "print(\"Ceiling of 46.8 =\",\n",
        "      math.ceil(46.8))  #Rounds a number up to the nearest integer\n",
        "print(\"Floor value of 46.8 =\",\n",
        "      math.floor(46.8))  #Rounds a number down to the nearest integer"
      ],
      "metadata": {
        "colab": {
          "base_uri": "https://localhost:8080/"
        },
        "id": "UFzyADrxTSyE",
        "outputId": "bfd570d6-132e-475b-a116-c41186fa48fc"
      },
      "execution_count": null,
      "outputs": [
        {
          "output_type": "stream",
          "name": "stdout",
          "text": [
            "Absolute value of -45 = 45.0\n",
            "Factorial of 10 =  3628800\n",
            "GCD of 12,2 = 2\n",
            "Square root of 65 = 8\n",
            "Ceiling of 46.8 = 47\n",
            "Floor value of 46.8 = 46\n"
          ]
        }
      ]
    },
    {
      "cell_type": "markdown",
      "source": [
        "Homework: Calculate the area to plouged by a farmer. Take the length and width values as user input.Limit the answer to two decimal places in Python. Display the result in square units."
      ],
      "metadata": {
        "id": "NC3-YtL3xAq6"
      }
    },
    {
      "cell_type": "code",
      "source": [
        "import math\n",
        "length = float(input(\"Enter the length of the field: \"))\n",
        "width = float(input(\"Enter the width of the field: \"))\n",
        "\n",
        "area = length * width\n",
        "\n",
        "print(\"The area to be ploughed is:\", round(area,2), \"square units\")\n",
        "#round(result,2) - Limit the answer to two decimal places in Python"
      ],
      "metadata": {
        "colab": {
          "base_uri": "https://localhost:8080/"
        },
        "id": "r7L-LO--xT4E",
        "outputId": "b8aaf309-3f7d-491c-9f60-c12796da23ff"
      },
      "execution_count": null,
      "outputs": [
        {
          "output_type": "stream",
          "name": "stdout",
          "text": [
            "Enter the length of the field: 255.5\n",
            "Enter the width of the field: 325.86\n",
            "The area to be ploughed is: 83257.23 square units\n"
          ]
        }
      ]
    }
  ]
}