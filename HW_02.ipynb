{
  "nbformat": 4,
  "nbformat_minor": 0,
  "metadata": {
    "colab": {
      "provenance": [],
      "authorship_tag": "ABX9TyPJFfMmWnhqA52OQqliX81X",
      "include_colab_link": true
    },
    "kernelspec": {
      "name": "python3",
      "display_name": "Python 3"
    },
    "language_info": {
      "name": "python"
    }
  },
  "cells": [
    {
      "cell_type": "markdown",
      "metadata": {
        "id": "view-in-github",
        "colab_type": "text"
      },
      "source": [
        "<a href=\"https://colab.research.google.com/github/Scodingcurriculum/Python_Gr_78/blob/Lesson_02/HW_02.ipynb\" target=\"_parent\"><img src=\"https://colab.research.google.com/assets/colab-badge.svg\" alt=\"Open In Colab\"/></a>"
      ]
    },
    {
      "cell_type": "code",
      "execution_count": null,
      "metadata": {
        "colab": {
          "base_uri": "https://localhost:8080/"
        },
        "id": "HvsPuzcSTEea",
        "outputId": "4f17fa1e-37f7-47fb-86ab-c9b07c41cd86"
      },
      "outputs": [
        {
          "output_type": "stream",
          "name": "stdout",
          "text": [
            "Area to be plouged=  83038  metres\n"
          ]
        }
      ],
      "source": [
        "import math\n",
        "l = 255.5\n",
        "w = 325\n",
        "area = l * w\n",
        "print(\"Area to be plouged= \", math.ceil(area),\" metres\")\n"
      ]
    }
  ]
}