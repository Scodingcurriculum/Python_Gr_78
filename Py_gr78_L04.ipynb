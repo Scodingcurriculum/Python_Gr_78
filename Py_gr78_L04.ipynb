{
  "nbformat": 4,
  "nbformat_minor": 0,
  "metadata": {
    "colab": {
      "provenance": [],
      "include_colab_link": true
    },
    "kernelspec": {
      "name": "python3",
      "display_name": "Python 3"
    },
    "language_info": {
      "name": "python"
    }
  },
  "cells": [
    {
      "cell_type": "markdown",
      "metadata": {
        "id": "view-in-github",
        "colab_type": "text"
      },
      "source": [
        "<a href=\"https://colab.research.google.com/github/Scodingcurriculum/Python_Gr_78/blob/Lesson_04/Py_gr78_L04.ipynb\" target=\"_parent\"><img src=\"https://colab.research.google.com/assets/colab-badge.svg\" alt=\"Open In Colab\"/></a>"
      ]
    },
    {
      "cell_type": "markdown",
      "source": [
        "Main Activity:  Web scraper program to grab and print all the titles from wikipedia webpage of Sir Thomas Alva Edison"
      ],
      "metadata": {
        "id": "GBxfffO7oYo_"
      }
    },
    {
      "cell_type": "code",
      "source": [
        "import requests\n",
        "from bs4 import BeautifulSoup\n",
        "\n",
        "# Step 1: Choose a webpage to scrape\n",
        "url = \"https://en.wikipedia.org/wiki/Thomas_Edison\"\n",
        " # Replace with a real URL (like a news site or blog)\n",
        "\n",
        "# Step 2: Get the webpage content\n",
        "response = requests.get(url)\n",
        "\n",
        "# Step 3: Parse the webpage content using BeautifulSoup\n",
        "soup = BeautifulSoup(response.text, 'html.parser')\n",
        "\n",
        "# Step 4: Find all article titles (using <h2> as an example)\n",
        "titles = soup.find_all('h2')\n",
        " # Replace 'h2' with the correct tag used on your chosen webpage\n",
        "\n",
        "# Step 5: Loop through the titles and print them\n",
        "print(\"Article Titles:\")\n",
        "for title in titles:\n",
        "    print(title.getText())\n"
      ],
      "metadata": {
        "colab": {
          "base_uri": "https://localhost:8080/"
        },
        "id": "1caOoRESv811",
        "outputId": "786e32c5-3336-4637-839c-8f897b9fde29"
      },
      "execution_count": null,
      "outputs": [
        {
          "output_type": "stream",
          "name": "stdout",
          "text": [
            "Article Titles:\n",
            "Contents\n",
            "Early life\n",
            "Early career\n",
            "Menlo Park laboratory (1876–1886)\n",
            "West Orange and Fort Myers (1886–1931)\n",
            "Other inventions and projects\n",
            "Final years\n",
            "Marriages and children\n",
            "Views\n",
            "Awards\n",
            "People who worked for Edison\n",
            "See also\n",
            "References\n",
            "Bibliography\n",
            "External links\n"
          ]
        }
      ]
    },
    {
      "cell_type": "markdown",
      "source": [
        "# Additional Activity - To print the output using the enumerate function in for loop"
      ],
      "metadata": {
        "id": "dk5g6bW7ym0V"
      }
    },
    {
      "cell_type": "code",
      "execution_count": null,
      "metadata": {
        "colab": {
          "base_uri": "https://localhost:8080/"
        },
        "id": "yTbgZbdrSDHN",
        "outputId": "1c25c967-1e5c-4116-e125-2ad0ac3427be"
      },
      "outputs": [
        {
          "output_type": "stream",
          "name": "stdout",
          "text": [
            "Article Titles:\n",
            "1. Contents\n",
            "2. Early life\n",
            "3. Early career\n",
            "4. Menlo Park laboratory (1876–1886)\n",
            "5. West Orange and Fort Myers (1886–1931)\n",
            "6. Other inventions and projects\n",
            "7. Final years\n",
            "8. Marriages and children\n",
            "9. Views\n",
            "10. Awards\n",
            "11. People who worked for Edison\n",
            "12. See also\n",
            "13. References\n",
            "14. Bibliography\n",
            "15. External links\n"
          ]
        }
      ],
      "source": [
        "import requests\n",
        "from bs4 import BeautifulSoup\n",
        "\n",
        "# Step 1: Choose a webpage to scrape\n",
        "url = \"https://en.wikipedia.org/wiki/Thomas_Edison\"\n",
        " # Replace with a real URL (like a news site or blog)\n",
        "\n",
        "# Step 2: Get the webpage content\n",
        "response = requests.get(url)\n",
        "\n",
        "# Step 3: Parse the webpage content using BeautifulSoup\n",
        "soup = BeautifulSoup(response.text, 'html.parser')\n",
        "\n",
        "# Step 4: Find all article titles (using <h2> as an example)\n",
        "titles = soup.find_all('h2')\n",
        " # Replace 'h2' with the correct tag used on your chosen webpage\n",
        "\n",
        "# Step 5: Loop through the titles and print them\n",
        "print(\"Article Titles:\")\n",
        "#enumerate helps automated numbering\n",
        "for i, title in enumerate(titles, start=1):\n",
        "    print(f\"{i}. {title.get_text()}\")\n"
      ]
    },
    {
      "cell_type": "markdown",
      "source": [
        "# Homework:  Python program to print titles and sub-titles from https://nasa.gov.in"
      ],
      "metadata": {
        "id": "cXDZMbRPr2Xw"
      }
    },
    {
      "cell_type": "code",
      "source": [
        "import requests\n",
        "from bs4 import BeautifulSoup\n",
        "\n",
        "# URL of the NASA website\n",
        "url = \"https://science.nasa.gov/solar-system/\"\n",
        "\n",
        "# Fetch the webpage content\n",
        "response = requests.get(url)\n",
        "response.raise_for_status()  # Check for request errors\n",
        "\n",
        "# Parse the HTML\n",
        "soup = BeautifulSoup(response.text, 'html.parser')\n",
        "\n",
        "# Find all titles and subtitles (e.g., h1, h2, etc.)\n",
        "headers = soup.find_all(['h1', 'h2'])\n",
        "\n",
        "print(\"Extracted Titles and Subtitles:\")\n",
        "for i, header in enumerate(headers, start=1):\n",
        "    print(f\"{i}. {header.get_text(strip=True)}\")\n",
        "\n"
      ],
      "metadata": {
        "colab": {
          "base_uri": "https://localhost:8080/"
        },
        "id": "67hLV1YSr412",
        "outputId": "bffbf8e7-0ec0-4aef-e008-1e995d728036"
      },
      "execution_count": null,
      "outputs": [
        {
          "output_type": "stream",
          "name": "stdout",
          "text": [
            "Extracted Titles and Subtitles:\n",
            "1. Solar System Exploration\n",
            "2. 10 THINGS about our solar system\n",
            "3. Solar System Overview\n",
            "4. About the Planets\n",
            "5. Which Planet is Biggest\n",
            "6. What’s the Weather Like Out There?\n",
            "7. Skywatching Resources\n",
            "8. Featured Missions\n",
            "9. Solar System Feature Stories\n",
            "10. Featured Resources\n",
            "11. Go Beyond Our Solar System\n",
            "12. Follow Us on Social Media\n",
            "13. Solar System News\n",
            "14. Discover More Topics\n",
            "15. National Aeronautics and Space Administration\n"
          ]
        }
      ]
    }
  ]
}