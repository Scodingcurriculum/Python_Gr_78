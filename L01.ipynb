{
  "nbformat": 4,
  "nbformat_minor": 0,
  "metadata": {
    "colab": {
      "provenance": [],
      "authorship_tag": "ABX9TyNlAgWsqWdHhs4uQob0kQAS",
      "include_colab_link": true
    },
    "kernelspec": {
      "name": "python3",
      "display_name": "Python 3"
    },
    "language_info": {
      "name": "python"
    }
  },
  "cells": [
    {
      "cell_type": "markdown",
      "metadata": {
        "id": "view-in-github",
        "colab_type": "text"
      },
      "source": [
        "<a href=\"https://colab.research.google.com/github/Scodingcurriculum/Python_Gr_78/blob/Lesson_01/L01.ipynb\" target=\"_parent\"><img src=\"https://colab.research.google.com/assets/colab-badge.svg\" alt=\"Open In Colab\"/></a>"
      ]
    },
    {
      "cell_type": "code",
      "execution_count": null,
      "metadata": {
        "colab": {
          "base_uri": "https://localhost:8080/"
        },
        "id": "ppi__B7oxuAM",
        "outputId": "361ebaf6-e21c-4d3a-d7ae-28e5d4a7ffb7"
      },
      "outputs": [
        {
          "output_type": "stream",
          "name": "stdout",
          "text": [
            "Electricity produced by 1 solar panel= 360.0 W\n"
          ]
        }
      ],
      "source": [
        "#Program to find the electricity production in a #day with one solar panel\n",
        "watt = 300\n",
        "efficiency = 0.2\n",
        "direct_sunlight = 6\n",
        "power = watt * direct_sunlight * efficiency\n",
        "print(\"Electricity produced by 1 solar panel= \" + str(power) + \" W\")\n"
      ]
    },
    {
      "cell_type": "code",
      "source": [
        "#Additional Activity -01\n",
        "watt = 300\n",
        "efficiency = 0.2\n",
        "direct_sunlight = input(\"Enter the number of Hours of sunlight in your region: \")\n",
        "power = watt * int(direct_sunlight) * efficiency\n",
        "print(\"Electricity produced by 1 solar panel= \" + str(power) + \" W\")"
      ],
      "metadata": {
        "colab": {
          "base_uri": "https://localhost:8080/"
        },
        "id": "vTz1ZxPUyO6W",
        "outputId": "40abe3b5-ee7e-45f7-8f05-ed14ed2fa8d8"
      },
      "execution_count": null,
      "outputs": [
        {
          "output_type": "stream",
          "name": "stdout",
          "text": [
            "Enter the number of Hours of sunlight in your region: 5\n",
            "Electricity produced by 1 solar panel= 300.0 W\n"
          ]
        }
      ]
    },
    {
      "cell_type": "code",
      "source": [
        "#Additional Activity -02\n",
        "watt = 300\n",
        "efficiency = 0.2\n",
        "panel_count=input(\"Enter the number of solar panels: \")\n",
        "direct_sunlight =input(\"Enter the number of Hours of sunlight in your region: \")\n",
        "power = watt * int(direct_sunlight)*int(panel_count) * efficiency\n",
        "print(\"Electricity produced by 1 solar panel= \" + str(power) + \" W\")"
      ],
      "metadata": {
        "colab": {
          "base_uri": "https://localhost:8080/"
        },
        "id": "llKV2BMeyUJa",
        "outputId": "d0d450aa-e471-4ca4-96e1-4ea01313b639"
      },
      "execution_count": null,
      "outputs": [
        {
          "output_type": "stream",
          "name": "stdout",
          "text": [
            "Enter the number of solar panels: 5\n",
            "Enter the number of Hours of sunlight in your region: 6\n",
            "Electricity produced by 1 solar panel= 1800.0 W\n"
          ]
        }
      ]
    }
  ]
}