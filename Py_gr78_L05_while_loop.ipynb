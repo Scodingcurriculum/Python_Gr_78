{
  "nbformat": 4,
  "nbformat_minor": 0,
  "metadata": {
    "colab": {
      "provenance": [],
      "mount_file_id": "1PFVE-s6Si1_YqNxeN9HZfxUZ3DsQW1zK",
      "authorship_tag": "ABX9TyMTKU8KAsoXPJNV3V33OD8L",
      "include_colab_link": true
    },
    "kernelspec": {
      "name": "python3",
      "display_name": "Python 3"
    },
    "language_info": {
      "name": "python"
    }
  },
  "cells": [
    {
      "cell_type": "markdown",
      "metadata": {
        "id": "view-in-github",
        "colab_type": "text"
      },
      "source": [
        "<a href=\"https://colab.research.google.com/github/Scodingcurriculum/Python_Gr_78/blob/Lesson_05/Py_gr78_L05_while_loop.ipynb\" target=\"_parent\"><img src=\"https://colab.research.google.com/assets/colab-badge.svg\" alt=\"Open In Colab\"/></a>"
      ]
    },
    {
      "cell_type": "markdown",
      "source": [
        "MAIN ACTIVITY:  FIZZ BUZZ GAME"
      ],
      "metadata": {
        "id": "bmpq8w1mM3Rr"
      }
    },
    {
      "cell_type": "code",
      "source": [
        "!pip install colorama\n",
        "from colorama import Fore, Style\n",
        "\n",
        "start = 1\n",
        "end = 30\n",
        "\n",
        "while start <= end:\n",
        "    if start % 3 == 0 and start % 5 == 0:\n",
        "        print(Fore.RED + Style.BRIGHT + \"FizzBuzz\" + Style.RESET_ALL)\n",
        "    elif start % 3 == 0:\n",
        "        print(Fore.GREEN + Style.BRIGHT + \"Fizz\" + Style.RESET_ALL)\n",
        "    elif start % 5 == 0:\n",
        "        print(Fore.BLUE + Style.BRIGHT + \"Buzz\" + Style.RESET_ALL)\n",
        "    else:\n",
        "        print(Fore.BLACK + str(start) + Style.RESET_ALL)\n",
        "    start += 1\n"
      ],
      "metadata": {
        "colab": {
          "base_uri": "https://localhost:8080/"
        },
        "id": "3oXkMh_YMMRC",
        "outputId": "88c81b90-3270-4be6-d25a-81fbddc5983b"
      },
      "execution_count": null,
      "outputs": [
        {
          "output_type": "stream",
          "name": "stdout",
          "text": [
            "Requirement already satisfied: colorama in /usr/local/lib/python3.10/dist-packages (0.4.6)\n",
            "\u001b[30m1\u001b[0m\n",
            "\u001b[30m2\u001b[0m\n",
            "\u001b[32m\u001b[1mFizz\u001b[0m\n",
            "\u001b[30m4\u001b[0m\n",
            "\u001b[34m\u001b[1mBuzz\u001b[0m\n",
            "\u001b[32m\u001b[1mFizz\u001b[0m\n",
            "\u001b[30m7\u001b[0m\n",
            "\u001b[30m8\u001b[0m\n",
            "\u001b[32m\u001b[1mFizz\u001b[0m\n",
            "\u001b[34m\u001b[1mBuzz\u001b[0m\n",
            "\u001b[30m11\u001b[0m\n",
            "\u001b[32m\u001b[1mFizz\u001b[0m\n",
            "\u001b[30m13\u001b[0m\n",
            "\u001b[30m14\u001b[0m\n",
            "\u001b[31m\u001b[1mFizzBuzz\u001b[0m\n",
            "\u001b[30m16\u001b[0m\n",
            "\u001b[30m17\u001b[0m\n",
            "\u001b[32m\u001b[1mFizz\u001b[0m\n",
            "\u001b[30m19\u001b[0m\n",
            "\u001b[34m\u001b[1mBuzz\u001b[0m\n",
            "\u001b[32m\u001b[1mFizz\u001b[0m\n",
            "\u001b[30m22\u001b[0m\n",
            "\u001b[30m23\u001b[0m\n",
            "\u001b[32m\u001b[1mFizz\u001b[0m\n",
            "\u001b[34m\u001b[1mBuzz\u001b[0m\n",
            "\u001b[30m26\u001b[0m\n",
            "\u001b[32m\u001b[1mFizz\u001b[0m\n",
            "\u001b[30m28\u001b[0m\n",
            "\u001b[30m29\u001b[0m\n",
            "\u001b[31m\u001b[1mFizzBuzz\u001b[0m\n"
          ]
        }
      ]
    },
    {
      "cell_type": "code",
      "execution_count": null,
      "metadata": {
        "colab": {
          "base_uri": "https://localhost:8080/"
        },
        "id": "_Zj2uOTJiArf",
        "outputId": "2a13fa87-2c8d-4115-e0ee-2aac38b63117"
      },
      "outputs": [
        {
          "output_type": "stream",
          "name": "stdout",
          "text": [
            "Welcome to the FizzBuzz Countdown Challenge!\n",
            "----------------------------------------\n",
            "1: 1\n",
            "2: 2\n",
            "3: Fizz\n",
            "4: 4\n",
            "5: Buzz\n",
            "6: Fizz\n",
            "7: 7\n",
            "8: 8\n",
            "9: Fizz\n",
            "10: Buzz\n",
            "11: 11\n",
            "12: Fizz\n",
            "13: 13\n",
            "14: 14\n",
            "15: FizzBuzz\n",
            "16: 16\n",
            "17: 17\n",
            "18: Fizz\n",
            "19: 19\n",
            "20: Buzz\n",
            "21: Fizz\n",
            "22: 22\n",
            "23: 23\n",
            "24: Fizz\n",
            "25: Buzz\n"
          ]
        }
      ],
      "source": [
        "# Initialize the counter\n",
        "number = 1\n",
        "\n",
        "print(\"Welcome to the FizzBuzz Countdown Challenge!\")\n",
        "print(\"-\" * 40)\n",
        "\n",
        "while number <= 25:\n",
        "    if number % 3 == 0 and number % 5 == 0:\n",
        "        print(f\"{number}: FizzBuzz\")\n",
        "    elif number % 3 == 0:\n",
        "        print(f\"{number}: Fizz\")\n",
        "    elif number % 5 == 0:\n",
        "        print(f\"{number}: Buzz\")\n",
        "    else:\n",
        "        print(f\"{number}: {number}\")\n",
        "    number += 1\n",
        "\n"
      ]
    },
    {
      "cell_type": "markdown",
      "source": [
        "ADDITIONAL ACTIVITY"
      ],
      "metadata": {
        "id": "cu0k3q-qM9Pq"
      }
    },
    {
      "cell_type": "code",
      "source": [
        "# Interactive FizzBuzz with scoring\n",
        "number = 1\n",
        "score = 0\n",
        "print(\"Welcome to the FizzBuzz Game!\")\n",
        "print(\"Enter 'Fizz', 'Buzz', 'FizzBuzz', or the number itself as per the rules.\")\n",
        "while number <= 25:\n",
        "    user_input = input(f\"What should be said for {number}? \").strip()\n",
        "    #strip(): The strip() method removes any leading, and trailing whitespaces.\n",
        "    correct_answer = \"\"\n",
        "    if number % 3 == 0 and number % 5 == 0:\n",
        "        correct_answer = \"FizzBuzz\"\n",
        "    elif number % 3 == 0:\n",
        "        correct_answer = \"Fizz\"\n",
        "    elif number % 5 == 0:\n",
        "        correct_answer = \"Buzz\"\n",
        "    else:\n",
        "        correct_answer = str(number)\n",
        "\n",
        "    if user_input == correct_answer:\n",
        "        print(\"Correct!\")\n",
        "        score += 1\n",
        "    else:\n",
        "        print(f\"Wrong! The correct answer was {correct_answer}.\")\n",
        "    number += 1\n",
        "print(f\"Game Over! Your final score is {score}/25.\")\n",
        "\n"
      ],
      "metadata": {
        "colab": {
          "base_uri": "https://localhost:8080/",
          "height": 624
        },
        "id": "8w1hs4zDNAF5",
        "outputId": "1b1745e9-4d56-40c6-849e-d1efbca14a3e"
      },
      "execution_count": null,
      "outputs": [
        {
          "output_type": "stream",
          "name": "stdout",
          "text": [
            "Welcome to the FizzBuzz Game!\n",
            "Enter 'Fizz', 'Buzz', 'FizzBuzz', or the number itself as per the rules.\n",
            "What should be said for 1? 1\n",
            "Correct!\n",
            "What should be said for 2? 2\n",
            "Correct!\n",
            "What should be said for 3? fizz\n",
            "Wrong! The correct answer was Fizz.\n",
            "What should be said for 4? 4\n",
            "Correct!\n",
            "What should be said for 5? buzz\n",
            "Wrong! The correct answer was Buzz.\n",
            "What should be said for 6? x\n",
            "Wrong! The correct answer was Fizz.\n"
          ]
        },
        {
          "output_type": "error",
          "ename": "KeyboardInterrupt",
          "evalue": "Interrupted by user",
          "traceback": [
            "\u001b[0;31m---------------------------------------------------------------------------\u001b[0m",
            "\u001b[0;31mKeyboardInterrupt\u001b[0m                         Traceback (most recent call last)",
            "\u001b[0;32m<ipython-input-1-7c537abd0d58>\u001b[0m in \u001b[0;36m<cell line: 8>\u001b[0;34m()\u001b[0m\n\u001b[1;32m      7\u001b[0m \u001b[0;34m\u001b[0m\u001b[0m\n\u001b[1;32m      8\u001b[0m \u001b[0;32mwhile\u001b[0m \u001b[0mnumber\u001b[0m \u001b[0;34m<=\u001b[0m \u001b[0;36m25\u001b[0m\u001b[0;34m:\u001b[0m\u001b[0;34m\u001b[0m\u001b[0;34m\u001b[0m\u001b[0m\n\u001b[0;32m----> 9\u001b[0;31m     \u001b[0muser_input\u001b[0m \u001b[0;34m=\u001b[0m \u001b[0minput\u001b[0m\u001b[0;34m(\u001b[0m\u001b[0;34mf\"What should be said for {number}? \"\u001b[0m\u001b[0;34m)\u001b[0m\u001b[0;34m.\u001b[0m\u001b[0mstrip\u001b[0m\u001b[0;34m(\u001b[0m\u001b[0;34m)\u001b[0m\u001b[0;34m\u001b[0m\u001b[0;34m\u001b[0m\u001b[0m\n\u001b[0m\u001b[1;32m     10\u001b[0m     \u001b[0;31m#strip(): The strip() method removes any leading, and trailing whitespaces.\u001b[0m\u001b[0;34m\u001b[0m\u001b[0;34m\u001b[0m\u001b[0m\n\u001b[1;32m     11\u001b[0m \u001b[0;34m\u001b[0m\u001b[0m\n",
            "\u001b[0;32m/usr/local/lib/python3.10/dist-packages/ipykernel/kernelbase.py\u001b[0m in \u001b[0;36mraw_input\u001b[0;34m(self, prompt)\u001b[0m\n\u001b[1;32m    849\u001b[0m                 \u001b[0;34m\"raw_input was called, but this frontend does not support input requests.\"\u001b[0m\u001b[0;34m\u001b[0m\u001b[0;34m\u001b[0m\u001b[0m\n\u001b[1;32m    850\u001b[0m             )\n\u001b[0;32m--> 851\u001b[0;31m         return self._input_request(str(prompt),\n\u001b[0m\u001b[1;32m    852\u001b[0m             \u001b[0mself\u001b[0m\u001b[0;34m.\u001b[0m\u001b[0m_parent_ident\u001b[0m\u001b[0;34m,\u001b[0m\u001b[0;34m\u001b[0m\u001b[0;34m\u001b[0m\u001b[0m\n\u001b[1;32m    853\u001b[0m             \u001b[0mself\u001b[0m\u001b[0;34m.\u001b[0m\u001b[0m_parent_header\u001b[0m\u001b[0;34m,\u001b[0m\u001b[0;34m\u001b[0m\u001b[0;34m\u001b[0m\u001b[0m\n",
            "\u001b[0;32m/usr/local/lib/python3.10/dist-packages/ipykernel/kernelbase.py\u001b[0m in \u001b[0;36m_input_request\u001b[0;34m(self, prompt, ident, parent, password)\u001b[0m\n\u001b[1;32m    893\u001b[0m             \u001b[0;32mexcept\u001b[0m \u001b[0mKeyboardInterrupt\u001b[0m\u001b[0;34m:\u001b[0m\u001b[0;34m\u001b[0m\u001b[0;34m\u001b[0m\u001b[0m\n\u001b[1;32m    894\u001b[0m                 \u001b[0;31m# re-raise KeyboardInterrupt, to truncate traceback\u001b[0m\u001b[0;34m\u001b[0m\u001b[0;34m\u001b[0m\u001b[0m\n\u001b[0;32m--> 895\u001b[0;31m                 \u001b[0;32mraise\u001b[0m \u001b[0mKeyboardInterrupt\u001b[0m\u001b[0;34m(\u001b[0m\u001b[0;34m\"Interrupted by user\"\u001b[0m\u001b[0;34m)\u001b[0m \u001b[0;32mfrom\u001b[0m \u001b[0;32mNone\u001b[0m\u001b[0;34m\u001b[0m\u001b[0;34m\u001b[0m\u001b[0m\n\u001b[0m\u001b[1;32m    896\u001b[0m             \u001b[0;32mexcept\u001b[0m \u001b[0mException\u001b[0m \u001b[0;32mas\u001b[0m \u001b[0me\u001b[0m\u001b[0;34m:\u001b[0m\u001b[0;34m\u001b[0m\u001b[0;34m\u001b[0m\u001b[0m\n\u001b[1;32m    897\u001b[0m                 \u001b[0mself\u001b[0m\u001b[0;34m.\u001b[0m\u001b[0mlog\u001b[0m\u001b[0;34m.\u001b[0m\u001b[0mwarning\u001b[0m\u001b[0;34m(\u001b[0m\u001b[0;34m\"Invalid Message:\"\u001b[0m\u001b[0;34m,\u001b[0m \u001b[0mexc_info\u001b[0m\u001b[0;34m=\u001b[0m\u001b[0;32mTrue\u001b[0m\u001b[0;34m)\u001b[0m\u001b[0;34m\u001b[0m\u001b[0;34m\u001b[0m\u001b[0m\n",
            "\u001b[0;31mKeyboardInterrupt\u001b[0m: Interrupted by user"
          ]
        }
      ]
    },
    {
      "cell_type": "markdown",
      "source": [
        "#Homework-  Simple Countdown timer"
      ],
      "metadata": {
        "id": "Q7F2KnYK2CSC"
      }
    },
    {
      "cell_type": "code",
      "source": [
        "import time\n",
        "def countdown_timer(seconds):\n",
        "    while seconds > 0:\n",
        "        print(f\"Time remaining: {seconds} seconds\")\n",
        "        time.sleep(1)\n",
        "        seconds -= 1\n",
        "    print(\"Time's up!\")\n",
        "\n",
        "countdown_timer(10)\n"
      ],
      "metadata": {
        "colab": {
          "base_uri": "https://localhost:8080/"
        },
        "id": "LsoIFNww2HBu",
        "outputId": "2896c4b9-d5e9-42f5-c1ea-f265aec53a95"
      },
      "execution_count": null,
      "outputs": [
        {
          "output_type": "stream",
          "name": "stdout",
          "text": [
            "Time remaining: 10 seconds\n",
            "Time remaining: 9 seconds\n",
            "Time remaining: 8 seconds\n",
            "Time remaining: 7 seconds\n",
            "Time remaining: 6 seconds\n",
            "Time remaining: 5 seconds\n",
            "Time remaining: 4 seconds\n",
            "Time remaining: 3 seconds\n",
            "Time remaining: 2 seconds\n",
            "Time remaining: 1 seconds\n",
            "Time's up!\n"
          ]
        }
      ]
    }
  ]
}