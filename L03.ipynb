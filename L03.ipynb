{
  "nbformat": 4,
  "nbformat_minor": 0,
  "metadata": {
    "colab": {
      "provenance": [],
      "authorship_tag": "ABX9TyMqxbSGMxkvvZAE3Y461ety",
      "include_colab_link": true
    },
    "kernelspec": {
      "name": "python3",
      "display_name": "Python 3"
    },
    "language_info": {
      "name": "python"
    }
  },
  "cells": [
    {
      "cell_type": "markdown",
      "metadata": {
        "id": "view-in-github",
        "colab_type": "text"
      },
      "source": [
        "<a href=\"https://colab.research.google.com/github/Scodingcurriculum/Python_Gr_78/blob/Lesson_03/L03.ipynb\" target=\"_parent\"><img src=\"https://colab.research.google.com/assets/colab-badge.svg\" alt=\"Open In Colab\"/></a>"
      ]
    },
    {
      "cell_type": "markdown",
      "source": [
        "Main Activity 01: Add conditional statement to check if a student has passed or failed in the examination"
      ],
      "metadata": {
        "id": "dbUJuMhY0bIH"
      }
    },
    {
      "cell_type": "code",
      "execution_count": null,
      "metadata": {
        "colab": {
          "base_uri": "https://localhost:8080/"
        },
        "id": "kGvndRWEUqO3",
        "outputId": "fcdcc8ed-582b-4f1e-81c6-53501f5ff4ad"
      },
      "outputs": [
        {
          "output_type": "stream",
          "name": "stdout",
          "text": [
            "Enter your percentage39.9\n",
            "39.9\n",
            "You failed\n"
          ]
        }
      ],
      "source": [
        "percent=float(input(\"Enter your percentage\"))\n",
        "print(percent)\n",
        "if percent >=59:\n",
        "  print(\"You passed\")\n",
        "else:\n",
        "  print(\"You failed\")"
      ]
    },
    {
      "cell_type": "markdown",
      "source": [
        "Main Activity 02: Add conditional statement to check which grade does a student secure depending upon predefined grading criteria"
      ],
      "metadata": {
        "id": "SaILD-AQ0nMp"
      }
    },
    {
      "cell_type": "code",
      "source": [
        "percent=float(input(\"Enter your percentage: \"))\n",
        "if percent >= 90:  # >= is a relational operator\n",
        "    print(\"You Passed with an A Grade\")\n",
        "elif percent >= 80 and percent < 90:  #and is the logical operator\n",
        "    print(\"You Passed with an B Grade\")\n",
        "elif percent >= 70 and percent < 80:  # < is a relational operator\n",
        "     print(\"You Passed with an C Grade\")\n",
        "elif percent >= 60 and percent < 70:\n",
        "     print(\"You Passed with an D Grade\")\n",
        "else:\n",
        "    print(\"Fail\")\n"
      ],
      "metadata": {
        "colab": {
          "base_uri": "https://localhost:8080/"
        },
        "id": "RSAuv91yVNb5",
        "outputId": "0b39efe4-413e-4584-bb0e-f8de42892163"
      },
      "execution_count": null,
      "outputs": [
        {
          "output_type": "stream",
          "name": "stdout",
          "text": [
            "Enter your percentage56.55\n",
            "Fail\n"
          ]
        }
      ]
    },
    {
      "cell_type": "markdown",
      "source": [
        "Additional Activity : Calculate the percentage scored by the user by applying the formula:\n",
        "\n",
        "\n",
        "**Percentage = (Marks Scored/ Total Marks) x 100**"
      ],
      "metadata": {
        "id": "Ug7A5mue0yKS"
      }
    },
    {
      "cell_type": "code",
      "source": [
        "import math\n",
        "Score=float(input(\"Enter marks scored: \"))\n",
        "total=float(input(\"Enter total marks: \"))\n",
        "percent=math.floor((Score/total)*100)\n",
        "print(percent)\n",
        "if percent >= 90:  # >= is a relational operator\n",
        "    print(\"You Passed with an A Grade\")\n",
        "elif percent >= 80 and percent < 90:  #and is the logical operator\n",
        "    print(\"You Passed with an B Grade\")\n",
        "elif percent >= 70 and percent < 80:  # < is a relational operator\n",
        "     print(\"You Passed with an C Grade\")\n",
        "elif percent >= 60 and percent < 70:\n",
        "     print(\"You Passed with an D Grade\")\n",
        "else:\n",
        "    print(\"Fail\")"
      ],
      "metadata": {
        "colab": {
          "base_uri": "https://localhost:8080/"
        },
        "id": "ki_m-T7Sqlk1",
        "outputId": "c661372d-830e-4a16-b5d6-4ef5f9802f25"
      },
      "execution_count": null,
      "outputs": [
        {
          "output_type": "stream",
          "name": "stdout",
          "text": [
            "Enter marks scored: 455\n",
            "Enter total marks: 550\n",
            "82\n",
            "You Passed with an B Grade\n"
          ]
        }
      ]
    },
    {
      "cell_type": "markdown",
      "source": [
        "Homework : Write a Python program to find the amount of discount on the cost price. The offer says:\n",
        "\n",
        "If cost prices > 2000  ,then you get 20% off\n",
        "If the costprice>1000  and cost price < 2000 $, then you get 10% off\n",
        "Else you do not get any discount"
      ],
      "metadata": {
        "id": "xJ3_lVWg3DNc"
      }
    },
    {
      "cell_type": "code",
      "source": [
        "discount = 0\n",
        "final_amt=0\n",
        "cost = int(input(\"Enter the cost of products purchased: \"))\n",
        "if cost >= 2000:\n",
        "  discount = 0.2 * cost\n",
        "   #if cost>2000$, then 20% discount is applied on cost of that item 20% = 0.2\n",
        "elif cost >= 1000 and cost < 2000:\n",
        "  discount = 0.1 * cost\n",
        "else:\n",
        "  discount=0\n",
        "final_amt=cost-discount\n",
        "print(\"Discount applied= \",discount)\n",
        "print(\"Final amount to be paid= \",final_amt)\n"
      ],
      "metadata": {
        "id": "cTYYIlJr3DkR",
        "colab": {
          "base_uri": "https://localhost:8080/"
        },
        "outputId": "9bf8fd5e-ab88-44b7-ae03-88910e60cc6e"
      },
      "execution_count": null,
      "outputs": [
        {
          "output_type": "stream",
          "name": "stdout",
          "text": [
            "Enter the cost of products purchased: 1999\n",
            "Discount applied=  199.9\n",
            "Final amount to be paid=  1799.1\n"
          ]
        }
      ]
    }
  ]
}