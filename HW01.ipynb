{
  "nbformat": 4,
  "nbformat_minor": 0,
  "metadata": {
    "colab": {
      "provenance": [],
      "authorship_tag": "ABX9TyPfPnpVkRF31/wmKbHd8cB7",
      "include_colab_link": true
    },
    "kernelspec": {
      "name": "python3",
      "display_name": "Python 3"
    },
    "language_info": {
      "name": "python"
    }
  },
  "cells": [
    {
      "cell_type": "markdown",
      "metadata": {
        "id": "view-in-github",
        "colab_type": "text"
      },
      "source": [
        "<a href=\"https://colab.research.google.com/github/Scodingcurriculum/Python_Gr_78/blob/Lesson_01/HW01.ipynb\" target=\"_parent\"><img src=\"https://colab.research.google.com/assets/colab-badge.svg\" alt=\"Open In Colab\"/></a>"
      ]
    },
    {
      "cell_type": "code",
      "execution_count": null,
      "metadata": {
        "colab": {
          "base_uri": "https://localhost:8080/"
        },
        "id": "f0VmHCa92-5O",
        "outputId": "88ae56d7-64e9-466f-ff24-a05502c532f1"
      },
      "outputs": [
        {
          "output_type": "stream",
          "name": "stdout",
          "text": [
            "Electricity produced in summer by 5= 1800.0 W\n",
            "Electricity produced in winter by 5= 900.0 W\n"
          ]
        }
      ],
      "source": [
        "#Program to find the electricity production in a day season wise\n",
        "watt = 300\n",
        "efficiency = 0.2\n",
        "panel_count = 5\n",
        "summer_W = watt * 6 * efficiency * panel_count\n",
        "winter_W = watt * 3 * efficiency * panel_count\n",
        "print(\"Electricity produced in summer by \" + str(panel_count) + \"= \" + str(summer_W) + \" W\")\n",
        "print(\"Electricity produced in winter by \" + str(panel_count) + \"= \" + str(winter_W) + \" W\")"
      ]
    }
  ]
}